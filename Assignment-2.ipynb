{
 "cells": [
  {
   "cell_type": "raw",
   "metadata": {},
   "source": [
    "Area Of Circle:"
   ]
  },
  {
   "cell_type": "code",
   "execution_count": 3,
   "metadata": {},
   "outputs": [
    {
     "name": "stdout",
     "output_type": "stream",
     "text": [
      "Enter Radius Of A Circle:2\n",
      "12.56\n"
     ]
    }
   ],
   "source": [
    "radius=int(input(\"Enter Radius Of A Circle: \"))\n",
    "area=3.14*radius*radius\n",
    "print(area)"
   ]
  },
  {
   "cell_type": "raw",
   "metadata": {},
   "source": [
    "Check Number Either Positive, Negative or Zero:"
   ]
  },
  {
   "cell_type": "code",
   "execution_count": 10,
   "metadata": {},
   "outputs": [
    {
     "name": "stdout",
     "output_type": "stream",
     "text": [
      "Enter Number: 1\n",
      "Positive Number\n"
     ]
    }
   ],
   "source": [
    "num=int(input(\"Enter Number: \"))\n",
    "if(num==0):\n",
    "    print(\"Number is zero\")\n",
    "elif(num<0):\n",
    "    print(\"Negative Number\")\n",
    "else:\n",
    "    print(\"Positive Number\")"
   ]
  },
  {
   "cell_type": "raw",
   "metadata": {},
   "source": [
    "Divisibility Check Of Two Numbers:"
   ]
  },
  {
   "cell_type": "code",
   "execution_count": 18,
   "metadata": {},
   "outputs": [
    {
     "name": "stdout",
     "output_type": "stream",
     "text": [
      "Enter First Number: 7\n",
      "Enter Second Number: 4\n",
      "7  is Not Completely divisible by  4\n"
     ]
    }
   ],
   "source": [
    "input1=int(input(\"Enter First Number: \"))\n",
    "input2=int(input(\"Enter Second Number: \"))\n",
    "if(input1%input2==0):\n",
    "    print(input1,\" is Completely divisible by \",input2)\n",
    "else:\n",
    "    print(input1,\" is Not Completely divisible by \",input2)"
   ]
  },
  {
   "cell_type": "raw",
   "metadata": {},
   "source": [
    "Days Calculator:"
   ]
  },
  {
   "cell_type": "code",
   "execution_count": 7,
   "metadata": {},
   "outputs": [
    {
     "name": "stdout",
     "output_type": "stream",
     "text": [
      "Enter Date1 12\n",
      "Enter Month1 12\n",
      "Enter Year1 2018\n",
      "Enter Date2 16\n",
      "Enter Month2 12\n",
      "Enter Year2 2018\n",
      "There is  4  days in between  12 / 12 / 2018  and  16 / 12 / 2018\n"
     ]
    }
   ],
   "source": [
    "from datetime import date\n",
    "dd1=int(input(\"Enter Date1 \"))\n",
    "mm1=int(input(\"Enter Month1 \"))\n",
    "yy1=int(input(\"Enter Year1 \"))\n",
    "dd2=int(input(\"Enter Date2 \"))\n",
    "mm2=int(input(\"Enter Month2 \"))\n",
    "yy2=int(input(\"Enter Year2 \"))\n",
    "fDate=date(yy1,mm1,dd1)\n",
    "sDate=date(yy2,mm2,dd2)\n",
    "difference=abs(fDate-sDate)\n",
    "print(\"There is \",difference.days,\" days in between \",dd1,\"/\",mm1,\"/\",yy1,\" and \",dd2,\"/\",mm2,\"/\",yy2)"
   ]
  },
  {
   "cell_type": "raw",
   "metadata": {},
   "source": [
    "Calculate Volume of a sphere:"
   ]
  },
  {
   "cell_type": "code",
   "execution_count": 2,
   "metadata": {},
   "outputs": [
    {
     "name": "stdout",
     "output_type": "stream",
     "text": [
      "Enter Radius Of Sphere: 1\n",
      "Volume OF Sphere with Radius 1 is 4.1887902047863905\n"
     ]
    }
   ],
   "source": [
    "import math\n",
    "r=int(input(\"Enter Radius Of Sphere: \"))\n",
    "volume=(4/3)*math.pi*r**3\n",
    "print(\"Volume OF Sphere with Radius\",r,\"is\",volume)"
   ]
  },
  {
   "cell_type": "raw",
   "metadata": {},
   "source": [
    "Copy string n times:"
   ]
  },
  {
   "cell_type": "code",
   "execution_count": 4,
   "metadata": {},
   "outputs": [
    {
     "name": "stdout",
     "output_type": "stream",
     "text": [
      "Enter String: Hi\n",
      "How mant copies of string you need 4\n",
      "HiHiHiHi"
     ]
    }
   ],
   "source": [
    "string=str(input(\"Enter String: \"))\n",
    "copy=int(input(\"How mant copies of string you need \"))\n",
    "for x in range(0,copy):\n",
    "    print(string,end=\"\")"
   ]
  },
  {
   "cell_type": "raw",
   "metadata": {},
   "source": [
    "Check if number is Even or Odd:"
   ]
  },
  {
   "cell_type": "code",
   "execution_count": 7,
   "metadata": {},
   "outputs": [
    {
     "name": "stdout",
     "output_type": "stream",
     "text": [
      "Enter Number: 4\n",
      "4 is Even\n"
     ]
    }
   ],
   "source": [
    "num=int(input(\"Enter Number: \"))\n",
    "if(num%2==0):\n",
    "    print(num,\"is Even\")\n",
    "else:\n",
    "    print(num,\"is Odd\")"
   ]
  },
  {
   "cell_type": "raw",
   "metadata": {},
   "source": [
    "Vowel Tester:"
   ]
  },
  {
   "cell_type": "code",
   "execution_count": 8,
   "metadata": {},
   "outputs": [
    {
     "name": "stdout",
     "output_type": "stream",
     "text": [
      "Enter Charater: A\n",
      "Letter A is Vowel\n"
     ]
    }
   ],
   "source": [
    "char=input(\"Enter Charater: \")\n",
    "if(char==\"A\" or char==\"a\" or char==\"E\" or char==\"e\" or char==\"I\" or char==\"i\" or char==\"O\" or char==\"o\" or char==\"U\"\n",
    "   or char==\"u\"):\n",
    "    print(\"Letter \"+char+\" is Vowel\")\n",
    "else:\n",
    "    print(\"Letter \"+char+\" is not a Vowel\")"
   ]
  },
  {
   "cell_type": "raw",
   "metadata": {},
   "source": [
    "Triangle area:"
   ]
  },
  {
   "cell_type": "code",
   "execution_count": 9,
   "metadata": {},
   "outputs": [
    {
     "name": "stdout",
     "output_type": "stream",
     "text": [
      "Enter Magnitude of Triangle Base: 4\n",
      "Enter Magnitude of Triangle Height: 4\n",
      "Area of a Triangle with Height 4 and Base 4 is 8.0\n"
     ]
    }
   ],
   "source": [
    "b=int(input(\"Enter Magnitude of Triangle Base: \"))\n",
    "h=int(input(\"Enter Magnitude of Triangle Height: \"))\n",
    "area=(b*h)/2\n",
    "print(\"Area of a Triangle with Height\",h,\"and Base\",b,\"is\",area)"
   ]
  },
  {
   "cell_type": "raw",
   "metadata": {},
   "source": [
    "Calculate Interest:"
   ]
  },
  {
   "cell_type": "code",
   "execution_count": 20,
   "metadata": {},
   "outputs": [
    {
     "name": "stdout",
     "output_type": "stream",
     "text": [
      "Enter Principal Amount 10000\n",
      "Enter Rate of Interest In Percentage 0.1\n",
      "Enter Years of Investment 5\n",
      "After 5.0 years your principal amount 10000.0 over an interest rate of 0.1 % will be 15000.0\n"
     ]
    }
   ],
   "source": [
    "principalAmount=float(input(\"Enter Principal Amount \"))\n",
    "rateOfInterest=float(input(\"Enter Rate of Interest In Percentage \"))\n",
    "yearsOfInvestment=float(input(\"Enter Years of Investment \"))\n",
    "\n",
    "interest=principalAmount+(principalAmount*rateOfInterest*yearsOfInvestment)\n",
    "print(\"After\",yearsOfInvestment,\"years your principal amount\",principalAmount,\"over an interest rate of\",rateOfInterest,\"% will be\",interest)\n"
   ]
  },
  {
   "cell_type": "raw",
   "metadata": {},
   "source": [
    "Euclidean distance:"
   ]
  },
  {
   "cell_type": "code",
   "execution_count": 10,
   "metadata": {},
   "outputs": [
    {
     "name": "stdout",
     "output_type": "stream",
     "text": [
      "Enter Co-ordinate for x1: 2\n",
      "Enter Co-ordinate for x2: 4\n",
      "Enter Co-ordinate for y1: 4\n",
      "Enter Co-ordinate for y2: 4\n",
      "Distance between points ( 2 , 4 ) and ( 4 , 4 ) is  2.0\n"
     ]
    }
   ],
   "source": [
    "import math\n",
    "x1=int(input(\"Enter Co-ordinate for x1: \"))\n",
    "x2=int(input(\"Enter Co-ordinate for x2: \"))\n",
    "y1=int(input(\"Enter Co-ordinate for y1: \"))\n",
    "y2=int(input(\"Enter Co-ordinate for y2: \"))\n",
    "distance=math.sqrt((y1-x1)**2+(y2-x2)**2)\n",
    "print(\"Distance between points (\",x1,\",\",x2,\") and (\",y1,\",\",y2,\") is \",distance)"
   ]
  },
  {
   "cell_type": "raw",
   "metadata": {},
   "source": [
    "Feet to Centimeter Converter:"
   ]
  },
  {
   "cell_type": "code",
   "execution_count": 12,
   "metadata": {},
   "outputs": [
    {
     "name": "stdout",
     "output_type": "stream",
     "text": [
      "Enter Height in feet: 5\n",
      "There are 152.4 Cm in 5 ft\n"
     ]
    }
   ],
   "source": [
    "feet=int(input(\"Enter Height in feet: \"))\n",
    "centi=feet*30.48\n",
    "print(\"There are\",centi,\"Cm in\",feet,\"ft\")"
   ]
  },
  {
   "cell_type": "raw",
   "metadata": {},
   "source": [
    "BMI Calculator:"
   ]
  },
  {
   "cell_type": "code",
   "execution_count": 13,
   "metadata": {},
   "outputs": [
    {
     "name": "stdout",
     "output_type": "stream",
     "text": [
      "Enter Height in cm180\n",
      "Enter Weight in kg75\n",
      "23.148148148148145\n"
     ]
    }
   ],
   "source": [
    "h=int(input(\"Enter Height in cm\"))\n",
    "w=int(input(\"Enter Weight in kg\"))\n",
    "bmi=w / (h/100)**2\n",
    "print(bmi)"
   ]
  },
  {
   "cell_type": "raw",
   "metadata": {},
   "source": [
    "Sum of n Positive Integers:"
   ]
  },
  {
   "cell_type": "code",
   "execution_count": 16,
   "metadata": {},
   "outputs": [
    {
     "name": "stdout",
     "output_type": "stream",
     "text": [
      "Enter Number: 5\n",
      "Sum of n positive Integers till 5 is 15.0\n"
     ]
    }
   ],
   "source": [
    "num=int(input(\"Enter Number: \"))\n",
    "count=0\n",
    "sum=0\n",
    "sum=num*(num+1)/2\n",
    "print(\"Sum of n positive Integers till\",num,\"is\",sum)"
   ]
  },
  {
   "cell_type": "raw",
   "metadata": {},
   "source": [
    "Digits Sum Of A Number:"
   ]
  },
  {
   "cell_type": "code",
   "execution_count": 46,
   "metadata": {},
   "outputs": [
    {
     "name": "stdout",
     "output_type": "stream",
     "text": [
      "Enter Number: 15\n",
      "Sum of 15 is 6\n"
     ]
    }
   ],
   "source": [
    "num=int(input(\"Enter Number: \"))\n",
    "onum=num\n",
    "sum=0\n",
    "while(num!=0):\n",
    "    digits=num%10\n",
    "    num=int(num/10)\n",
    "    sum=sum+digits\n",
    "print(\"Sum of\",onum,\"is\",sum)    "
   ]
  },
  {
   "cell_type": "raw",
   "metadata": {},
   "source": [
    "Decimal To Binary Converter:"
   ]
  },
  {
   "cell_type": "code",
   "execution_count": 59,
   "metadata": {},
   "outputs": [
    {
     "name": "stdout",
     "output_type": "stream",
     "text": [
      "Enter Decimal Number: 10\n",
      "Binary Representation of 10 is\n",
      "01010"
     ]
    }
   ],
   "source": [
    "def DecimalToBinary(num):\n",
    "    if(num!=0):\n",
    "        DecimalToBinary(int(num/2))\n",
    "    print(num%2,end='')  \n",
    "    \n",
    "if __name__=='__main__':\n",
    "    dec_value=int(input(\"Enter Decimal Number: \"))\n",
    "    print(\"Binary Representation of\",dec_value,\"is\")\n",
    "    DecimalToBinary(dec_value)\n",
    "    \n",
    "   \n",
    "    "
   ]
  },
  {
   "cell_type": "raw",
   "metadata": {},
   "source": [
    "Binary To Decimal Converter:"
   ]
  },
  {
   "cell_type": "code",
   "execution_count": 1,
   "metadata": {},
   "outputs": [
    {
     "name": "stdout",
     "output_type": "stream",
     "text": [
      "Enter Binary Number: 101\n",
      "Decimal Representation of 101 is\n",
      "5\n"
     ]
    }
   ],
   "source": [
    "def BinaryToDecimal(num):\n",
    "    binary=num\n",
    "    decimal,i,n=0,0,0\n",
    "    while(num!=0):\n",
    "        rem=num%10\n",
    "        decimal=decimal+rem*pow(2,i)\n",
    "        num=int(num/10)\n",
    "        i=i+1\n",
    "    print(decimal)        \n",
    "\n",
    "if __name__=='__main__':\n",
    "    bin_value=int(input(\"Enter Binary Number: \"))\n",
    "    print(\"Decimal Representation of\",bin_value,\"is\")\n",
    "    BinaryToDecimal(bin_value)\n"
   ]
  },
  {
   "cell_type": "raw",
   "metadata": {},
   "source": [
    "Palindrome tester:"
   ]
  },
  {
   "cell_type": "code",
   "execution_count": 10,
   "metadata": {},
   "outputs": [
    {
     "name": "stdout",
     "output_type": "stream",
     "text": [
      "Enter String: aha\n",
      "Text aha is Palindrome\n"
     ]
    }
   ],
   "source": [
    "str=input(\"Enter String: \")\n",
    "rev=reversed(str) \n",
    "\n",
    "if(list(str)==list(rev)):\n",
    "    print(\"Text \"+str+\" is Palindrome\")\n",
    "else:\n",
    "    print(\"Text \"+str+\" is not Palindrome\")"
   ]
  },
  {
   "cell_type": "raw",
   "metadata": {},
   "source": [
    "Count Alphabets, Numbers and Special Characters:"
   ]
  },
  {
   "cell_type": "code",
   "execution_count": 18,
   "metadata": {},
   "outputs": [
    {
     "name": "stdout",
     "output_type": "stream",
     "text": [
      "Enter String: Python 3.2\n",
      "Numbers: 2\n",
      "Alphabets: 6\n",
      "Special Characters: 1\n",
      "Spaces: 1\n"
     ]
    }
   ],
   "source": [
    "string=input(\"Enter String: \")\n",
    "alpha=0\n",
    "digit=0\n",
    "special=0\n",
    "space=0\n",
    "for i in string:\n",
    "    if(i.isalpha()):\n",
    "        alpha=alpha+1\n",
    "    elif(i.isdigit()):\n",
    "        digit=digit+1\n",
    "    elif(i.isspace()):\n",
    "        space=space+1\n",
    "    else:\n",
    "        special=special+1\n",
    "print(\"Numbers:\",digit)\n",
    "print(\"Alphabets:\",alpha)\n",
    "print(\"Special Characters:\",special)\n",
    "print(\"Spaces:\",space)"
   ]
  },
  {
   "cell_type": "raw",
   "metadata": {},
   "source": [
    "Write a Python program to construct the following pattern:\n",
    "* \n",
    "* * \n",
    "* * * \n",
    "* * * * \n",
    "* * * * * \n",
    "* * * * \n",
    "* * * \n",
    "* * \n",
    "* \n"
   ]
  },
  {
   "cell_type": "code",
   "execution_count": 23,
   "metadata": {},
   "outputs": [
    {
     "name": "stdout",
     "output_type": "stream",
     "text": [
      "* \n",
      "* * \n",
      "* * * \n",
      "* * * * \n",
      "* * * * * \n",
      "* * * * \n",
      "* * * \n",
      "* * \n",
      "* \n"
     ]
    }
   ],
   "source": [
    "for i in range(0,5):\n",
    "    for j in range(0,i+1):\n",
    "        print(\"*\",end=\" \")\n",
    "    print()\n",
    "for h in range(0,4):\n",
    "    for k in range(4,h,-1):\n",
    "        print(\"*\",end=\" \")\n",
    "    print()"
   ]
  },
  {
   "cell_type": "raw",
   "metadata": {},
   "source": [
    "Write a Python program to construct the following pattern:\n",
    "1 \n",
    "1 2 \n",
    "1 2 3 \n",
    "1 2 3 4 \n",
    "1 2 3 4 5 \n",
    "1 2 3 4 \n",
    "1 2 3 \n",
    "1 2 \n",
    "1 "
   ]
  },
  {
   "cell_type": "code",
   "execution_count": 22,
   "metadata": {},
   "outputs": [
    {
     "name": "stdout",
     "output_type": "stream",
     "text": [
      "1 \n",
      "1 2 \n",
      "1 2 3 \n",
      "1 2 3 4 \n",
      "1 2 3 4 5 \n",
      "1 2 3 4 \n",
      "1 2 3 \n",
      "1 2 \n",
      "1 \n"
     ]
    }
   ],
   "source": [
    "for i in range(1,6):\n",
    "    for j in range(1,i+1):\n",
    "        print(j,end=\" \")\n",
    "    print()\n",
    "for k in range(5,1,-1):\n",
    "    for l in range(1,k):\n",
    "        print(l,end=\" \")\n",
    "    print()"
   ]
  },
  {
   "cell_type": "raw",
   "metadata": {},
   "source": [
    "Write a Python program to construct the following pattern:\n",
    "1\n",
    "22\n",
    "333\n",
    "4444\n",
    "55555\n",
    "666666\n",
    "7777777\n",
    "88888888\n",
    "999999999"
   ]
  },
  {
   "cell_type": "code",
   "execution_count": 24,
   "metadata": {},
   "outputs": [
    {
     "name": "stdout",
     "output_type": "stream",
     "text": [
      "1\n",
      "22\n",
      "333\n",
      "4444\n",
      "55555\n",
      "666666\n",
      "7777777\n",
      "88888888\n",
      "999999999\n"
     ]
    }
   ],
   "source": [
    "for i in range(1,10):\n",
    "    for j in range(1,i+1):\n",
    "        print(i,end=\"\")\n",
    "    print()"
   ]
  }
 ],
 "metadata": {
  "kernelspec": {
   "display_name": "Python 3",
   "language": "python",
   "name": "python3"
  },
  "language_info": {
   "codemirror_mode": {
    "name": "ipython",
    "version": 3
   },
   "file_extension": ".py",
   "mimetype": "text/x-python",
   "name": "python",
   "nbconvert_exporter": "python",
   "pygments_lexer": "ipython3",
   "version": "3.7.3"
  }
 },
 "nbformat": 4,
 "nbformat_minor": 2
}
